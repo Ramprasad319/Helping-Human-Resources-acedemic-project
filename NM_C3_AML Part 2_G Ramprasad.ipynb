{
 "cells": [
  {
   "cell_type": "markdown",
   "metadata": {},
   "source": [
    "## Importing necessary python libraries"
   ]
  },
  {
   "cell_type": "code",
   "execution_count": 2,
   "metadata": {},
   "outputs": [],
   "source": [
    "import numpy as np\n",
    "import pandas as pd \n",
    "import matplotlib.pyplot as plt\n",
    "import seaborn as sns"
   ]
  },
  {
   "cell_type": "markdown",
   "metadata": {},
   "source": [
    "### Reading the data"
   ]
  },
  {
   "cell_type": "code",
   "execution_count": 3,
   "metadata": {},
   "outputs": [],
   "source": [
    "data= pd.read_csv(\"food_rating.csv\")"
   ]
  },
  {
   "cell_type": "code",
   "execution_count": 4,
   "metadata": {},
   "outputs": [
    {
     "data": {
      "text/html": [
       "<div>\n",
       "<style scoped>\n",
       "    .dataframe tbody tr th:only-of-type {\n",
       "        vertical-align: middle;\n",
       "    }\n",
       "\n",
       "    .dataframe tbody tr th {\n",
       "        vertical-align: top;\n",
       "    }\n",
       "\n",
       "    .dataframe thead th {\n",
       "        text-align: right;\n",
       "    }\n",
       "</style>\n",
       "<table border=\"1\" class=\"dataframe\">\n",
       "  <thead>\n",
       "    <tr style=\"text-align: right;\">\n",
       "      <th></th>\n",
       "      <th>Emp Id</th>\n",
       "      <th>Pasta</th>\n",
       "      <th>Non-Veg Dish</th>\n",
       "      <th>Brownie</th>\n",
       "      <th>Lentils</th>\n",
       "      <th>Fries</th>\n",
       "      <th>Fruits</th>\n",
       "    </tr>\n",
       "  </thead>\n",
       "  <tbody>\n",
       "    <tr>\n",
       "      <th>0</th>\n",
       "      <td>Emp_1</td>\n",
       "      <td>9</td>\n",
       "      <td>77</td>\n",
       "      <td>79</td>\n",
       "      <td>59</td>\n",
       "      <td>53</td>\n",
       "      <td>100</td>\n",
       "    </tr>\n",
       "    <tr>\n",
       "      <th>1</th>\n",
       "      <td>Emp_2</td>\n",
       "      <td>9</td>\n",
       "      <td>62</td>\n",
       "      <td>76</td>\n",
       "      <td>66</td>\n",
       "      <td>54</td>\n",
       "      <td>73</td>\n",
       "    </tr>\n",
       "    <tr>\n",
       "      <th>2</th>\n",
       "      <td>Emp_3</td>\n",
       "      <td>9</td>\n",
       "      <td>50</td>\n",
       "      <td>97</td>\n",
       "      <td>77</td>\n",
       "      <td>35</td>\n",
       "      <td>80</td>\n",
       "    </tr>\n",
       "    <tr>\n",
       "      <th>3</th>\n",
       "      <td>Emp_4</td>\n",
       "      <td>9</td>\n",
       "      <td>68</td>\n",
       "      <td>77</td>\n",
       "      <td>85</td>\n",
       "      <td>61</td>\n",
       "      <td>66</td>\n",
       "    </tr>\n",
       "    <tr>\n",
       "      <th>4</th>\n",
       "      <td>Emp_5</td>\n",
       "      <td>9</td>\n",
       "      <td>98</td>\n",
       "      <td>54</td>\n",
       "      <td>49</td>\n",
       "      <td>80</td>\n",
       "      <td>91</td>\n",
       "    </tr>\n",
       "  </tbody>\n",
       "</table>\n",
       "</div>"
      ],
      "text/plain": [
       "  Emp Id  Pasta  Non-Veg Dish  Brownie  Lentils  Fries  Fruits\n",
       "0  Emp_1      9            77       79       59     53     100\n",
       "1  Emp_2      9            62       76       66     54      73\n",
       "2  Emp_3      9            50       97       77     35      80\n",
       "3  Emp_4      9            68       77       85     61      66\n",
       "4  Emp_5      9            98       54       49     80      91"
      ]
     },
     "execution_count": 4,
     "metadata": {},
     "output_type": "execute_result"
    }
   ],
   "source": [
    "data.head()"
   ]
  },
  {
   "cell_type": "markdown",
   "metadata": {},
   "source": [
    "## We can see that we have only numerical variables and emp_id is just a unique identification number of the employee. Lets set it as index"
   ]
  },
  {
   "cell_type": "code",
   "execution_count": 5,
   "metadata": {},
   "outputs": [],
   "source": [
    "data.set_index('Emp Id',inplace = True)"
   ]
  },
  {
   "cell_type": "markdown",
   "metadata": {},
   "source": [
    "### descriptive stats of the dataset"
   ]
  },
  {
   "cell_type": "code",
   "execution_count": 6,
   "metadata": {},
   "outputs": [
    {
     "data": {
      "text/html": [
       "<div>\n",
       "<style scoped>\n",
       "    .dataframe tbody tr th:only-of-type {\n",
       "        vertical-align: middle;\n",
       "    }\n",
       "\n",
       "    .dataframe tbody tr th {\n",
       "        vertical-align: top;\n",
       "    }\n",
       "\n",
       "    .dataframe thead th {\n",
       "        text-align: right;\n",
       "    }\n",
       "</style>\n",
       "<table border=\"1\" class=\"dataframe\">\n",
       "  <thead>\n",
       "    <tr style=\"text-align: right;\">\n",
       "      <th></th>\n",
       "      <th>Pasta</th>\n",
       "      <th>Non-Veg Dish</th>\n",
       "      <th>Brownie</th>\n",
       "      <th>Lentils</th>\n",
       "      <th>Fries</th>\n",
       "      <th>Fruits</th>\n",
       "    </tr>\n",
       "  </thead>\n",
       "  <tbody>\n",
       "    <tr>\n",
       "      <th>count</th>\n",
       "      <td>249.000000</td>\n",
       "      <td>249.000000</td>\n",
       "      <td>249.000000</td>\n",
       "      <td>249.000000</td>\n",
       "      <td>249.000000</td>\n",
       "      <td>249.000000</td>\n",
       "    </tr>\n",
       "    <tr>\n",
       "      <th>mean</th>\n",
       "      <td>18.987952</td>\n",
       "      <td>109.779116</td>\n",
       "      <td>124.518072</td>\n",
       "      <td>106.377510</td>\n",
       "      <td>97.638554</td>\n",
       "      <td>125.401606</td>\n",
       "    </tr>\n",
       "    <tr>\n",
       "      <th>std</th>\n",
       "      <td>6.616501</td>\n",
       "      <td>32.454115</td>\n",
       "      <td>45.639372</td>\n",
       "      <td>32.132696</td>\n",
       "      <td>41.562888</td>\n",
       "      <td>32.633339</td>\n",
       "    </tr>\n",
       "    <tr>\n",
       "      <th>min</th>\n",
       "      <td>9.000000</td>\n",
       "      <td>50.000000</td>\n",
       "      <td>52.000000</td>\n",
       "      <td>49.000000</td>\n",
       "      <td>35.000000</td>\n",
       "      <td>66.000000</td>\n",
       "    </tr>\n",
       "    <tr>\n",
       "      <th>25%</th>\n",
       "      <td>13.000000</td>\n",
       "      <td>84.000000</td>\n",
       "      <td>89.000000</td>\n",
       "      <td>83.000000</td>\n",
       "      <td>64.000000</td>\n",
       "      <td>97.000000</td>\n",
       "    </tr>\n",
       "    <tr>\n",
       "      <th>50%</th>\n",
       "      <td>19.000000</td>\n",
       "      <td>104.000000</td>\n",
       "      <td>119.000000</td>\n",
       "      <td>103.000000</td>\n",
       "      <td>89.000000</td>\n",
       "      <td>124.000000</td>\n",
       "    </tr>\n",
       "    <tr>\n",
       "      <th>75%</th>\n",
       "      <td>25.000000</td>\n",
       "      <td>132.000000</td>\n",
       "      <td>153.000000</td>\n",
       "      <td>128.000000</td>\n",
       "      <td>123.000000</td>\n",
       "      <td>148.000000</td>\n",
       "    </tr>\n",
       "    <tr>\n",
       "      <th>max</th>\n",
       "      <td>32.000000</td>\n",
       "      <td>203.000000</td>\n",
       "      <td>318.000000</td>\n",
       "      <td>203.000000</td>\n",
       "      <td>218.000000</td>\n",
       "      <td>223.000000</td>\n",
       "    </tr>\n",
       "  </tbody>\n",
       "</table>\n",
       "</div>"
      ],
      "text/plain": [
       "            Pasta  Non-Veg Dish     Brownie     Lentils       Fries  \\\n",
       "count  249.000000    249.000000  249.000000  249.000000  249.000000   \n",
       "mean    18.987952    109.779116  124.518072  106.377510   97.638554   \n",
       "std      6.616501     32.454115   45.639372   32.132696   41.562888   \n",
       "min      9.000000     50.000000   52.000000   49.000000   35.000000   \n",
       "25%     13.000000     84.000000   89.000000   83.000000   64.000000   \n",
       "50%     19.000000    104.000000  119.000000  103.000000   89.000000   \n",
       "75%     25.000000    132.000000  153.000000  128.000000  123.000000   \n",
       "max     32.000000    203.000000  318.000000  203.000000  218.000000   \n",
       "\n",
       "           Fruits  \n",
       "count  249.000000  \n",
       "mean   125.401606  \n",
       "std     32.633339  \n",
       "min     66.000000  \n",
       "25%     97.000000  \n",
       "50%    124.000000  \n",
       "75%    148.000000  \n",
       "max    223.000000  "
      ]
     },
     "execution_count": 6,
     "metadata": {},
     "output_type": "execute_result"
    }
   ],
   "source": [
    "data.describe()"
   ]
  },
  {
   "cell_type": "markdown",
   "metadata": {},
   "source": [
    "## Visualize the spread of the variables using a boxplot"
   ]
  },
  {
   "cell_type": "code",
   "execution_count": 8,
   "metadata": {},
   "outputs": [
    {
     "data": {
      "text/plain": [
       "Text(0.5, 0.98, 'BOXPLOTS TO CHECK THE SPREAD OF VARIABLES')"
      ]
     },
     "execution_count": 8,
     "metadata": {},
     "output_type": "execute_result"
    },
    {
     "data": {
      "image/png": "[encoded data removed]",
      "text/plain": [
       "<Figure size 864x576 with 1 Axes>"
      ]
     },
     "metadata": {
      "needs_background": "light"
     },
     "output_type": "display_data"
    }
   ],
   "source": [
    "data.boxplot(figsize = (12,8), grid = True)\n",
    "plt.suptitle('BOXPLOTS TO CHECK THE SPREAD OF VARIABLES', size = 20)"
   ]
  },
  {
   "cell_type": "markdown",
   "metadata": {},
   "source": [
    "## Question-1: Do you find any difference in the scale of the variables? Is there an exception? Write your observations from the boxplots."
   ]
  },
  {
   "cell_type": "markdown",
   "metadata": {},
   "source": [
    "### Scale of Variables:\n",
    "\n",
    "<b>X Axis is Categorical discrete variable</b> Food items Pasta,Non-veg,Brownie,Lentils,Fries&Fruits\n",
    "<b>Y Axis id Continutious Numerical variable</b> depicting No of Empoyees preferences from 0 to 350nos\n",
    "\n",
    "### Exception:\n",
    "\n",
    "<b>The Outlier is clealry visible in Food category Brownie beyond the maxpoint</b>\n",
    "Similarly in Food Category Lentils & Fries the outlier is noticed\n",
    "\n",
    "### Observations:\n",
    "\n",
    "The Counts for Brownie is 249, but the max point shows as 318 whcih is clearly an Outlier\n",
    "\n",
    "<b>Median : The Median of the Pasta is 19</b> indicates preference of smaller employee group\n",
    "<b>Brownie & Fruits</b>: The Median is highest for Brownie it is 119, & for Fruits it is 124\n",
    "<b>Non-Veg & Lentils</b> : The median is more or less similar it is 103 & 104\n",
    "<b>Fries</b> : The median is little less about 89\n",
    "\n",
    "<b>Min & Max</b> Pasta stands Minimum & Brownie & Fruits are maximum preferred, other dishes stands second top\n",
    "\n",
    "<b>Distribution</b> : Distribution of variables are <b>symentric with Postively Skewed distribution</b> for Brownie, Non-veg,Fruits, Fries& Lintels but\n",
    "Perfectly symentric for Pasta\n",
    "\n",
    "<b>Dispersion</b>: Little Dispersion noticed for Brownie (153-89=64), Fries(123-64=59) & non-vegdishes (132-84=48)\n",
    "    "
   ]
  },
  {
   "cell_type": "markdown",
   "metadata": {},
   "source": [
    "## Lets check the co-relation matrix to understand the relationships"
   ]
  },
  {
   "cell_type": "code",
   "execution_count": 9,
   "metadata": {
    "scrolled": true
   },
   "outputs": [
    {
     "data": {
      "text/plain": [
       "(6.5, -0.5)"
      ]
     },
     "execution_count": 9,
     "metadata": {},
     "output_type": "execute_result"
    },
    {
     "data": {
      "image/png": "[encoded data removed]",
      "text/plain": [
       "<Figure size 720x576 with 2 Axes>"
      ]
     },
     "metadata": {
      "needs_background": "light"
     },
     "output_type": "display_data"
    }
   ],
   "source": [
    "plt.figure(figsize = (10,8) )\n",
    "ax = sns.heatmap(data.corr(),annot = True)\n",
    "bottom, top = ax.get_ylim()\n",
    "ax.set_ylim(bottom + 0.5, top - 0.5)"
   ]
  },
  {
   "cell_type": "markdown",
   "metadata": {},
   "source": [
    "## Question-2: What patterns do you observe here? What insights can you draw from the exploratory data analysis so far?"
   ]
  },
  {
   "cell_type": "markdown",
   "metadata": {},
   "source": [
    "### Heat Map Pattern\n",
    "\n",
    "The Vertical bar represent Cold region (Black) to Hot Region (Whitish) with Size of the Correlation between the Categorical variables (food items)\n",
    "\n",
    "Correlations, between food items is Postive as well as negative, Correlation ranges from -1 to 1, The Whittish color represents hot & size of co-rrelation is 1.\n",
    "The Diagonal Squares with size 1 represents they are highly correlated with themselves\n",
    "Black color cold squares represents no co-rrelation, if the size is in negative it means they are negatively correlated, i.e preferance for one food item increases other will decrease viceversa\n",
    "Similarly if the correlation size is close to 1 & in positive, they are postively correlated,if preferance for one food item increases other will alos increase\n",
    "\n",
    "### Insight:\n",
    "\n",
    "<b>Non -veg & Fries</b>: The Correlation for nonveg & fries is 0.9 almost 1 highly positively correlated, The employees those who prefer Non-veg also prefers Fries equally\n",
    "\n",
    "<b>Pasta & Fruits</b>: The Correlation between these is second top 0.8, Preferance for pasta increases along with fruits,i.e those who prefer pasta will also take fruits.\n",
    "\n",
    "<b>Pasta with nonveg,Brownie& Lentils</b>: all three categories are correlated moderately\n",
    "The employees segment prefers all these 4 items equally\n",
    "\n",
    "<b>Brownie & Fries</b>:These 2 food items are negatively co-rrelated or no correlation it is -0.19,i.e Employee those who prefer Brownie will not prefer Fries & viceversa, also they both cant be provided in single combo\n",
    "\n",
    "<b>Non-Veg & Brownie</b>: These 2 items has no -correlation or negatively correlated with size -0.15, which means Employees those who prefer Non-veg wont prefer Brownie at a time & viceversa\n",
    "They both cant be provided at one combo\n",
    "\n",
    "Those who prefer Lentils may not prefer,Non-veg dishes,Fries & fruits, as the correlation between them is almost cold purple in color,They only prefer brownie & pasta moderately.\n",
    "\n",
    "\n"
   ]
  },
  {
   "cell_type": "code",
   "execution_count": 10,
   "metadata": {},
   "outputs": [],
   "source": [
    "from sklearn.preprocessing import MinMaxScaler\n",
    "\n",
    "data_copy = data[:]\n",
    "scaler = MinMaxScaler()\n",
    "data_copy[data_copy.columns] = scaler.fit_transform(data_copy)"
   ]
  },
  {
   "cell_type": "markdown",
   "metadata": {},
   "source": [
    "## Question-3: What did we do here? Why did we do it? "
   ]
  },
  {
   "cell_type": "markdown",
   "metadata": {},
   "source": [
    "### What did we do here\n",
    "<b>Preprocessing of Numerical Variables</b> here No of Employee preferences for various food items\n",
    "\n",
    "<b>Normalization</b>: Here all th enumerical variables (counts of employees for varies food items) has been normalized to fit within the range of 0 to 1 \n",
    "    \n",
    "Normalization is carried out using Min-Max Normalization Method : Subtracting the smallest datapoint & dividing the difference by the difference between highest & lowest data.\n",
    "\n",
    "It is Scaling of datapoints between the range of 0 to 1,\n",
    "    \n",
    "<b>Why normalization:</b>\n",
    "    \n",
    "   To Build a better model\n",
    "   Normalization done to bring all variables on same scale\n",
    "   \n",
    "    \n",
    "    "
   ]
  },
  {
   "cell_type": "markdown",
   "metadata": {},
   "source": [
    "### `Hopkins Statistic`"
   ]
  },
  {
   "cell_type": "code",
   "execution_count": 11,
   "metadata": {},
   "outputs": [],
   "source": [
    "from sklearn.neighbors import NearestNeighbors\n",
    "from random import sample\n",
    "from numpy.random import uniform\n",
    "import numpy as np\n",
    "from math import isnan\n",
    " \n",
    "def my_hopkins(X):\n",
    "    d = X.shape[1]\n",
    "    #d = len(vars) # columns\n",
    "    n = len(X) # rows\n",
    "    m = int(0.1 * n) \n",
    "    nbrs = NearestNeighbors(n_neighbors=1).fit(X.values)\n",
    " \n",
    "    rand_X = sample(range(0, n, 1), m)\n",
    " \n",
    "    ujd = []\n",
    "    wjd = []\n",
    "    for j in range(0, m):\n",
    "        u_dist, _ = nbrs.kneighbors(uniform(np.amin(X,axis=0),np.amax(X,axis=0),d).reshape(1, -1), 2, return_distance=True)\n",
    "        ujd.append(u_dist[0][1])\n",
    "        w_dist, _ = nbrs.kneighbors(X.iloc[rand_X[j]].values.reshape(1, -1), 2, return_distance=True)\n",
    "        wjd.append(w_dist[0][1])\n",
    " \n",
    "    H = sum(ujd) / (sum(ujd) + sum(wjd))\n",
    "    if isnan(H):\n",
    "        print(ujd, wjd)\n",
    "        H = 0\n",
    " \n",
    "    return H"
   ]
  },
  {
   "cell_type": "code",
   "execution_count": 12,
   "metadata": {},
   "outputs": [
    {
     "data": {
      "text/plain": [
       "0.8316895421655348"
      ]
     },
     "execution_count": 12,
     "metadata": {},
     "output_type": "execute_result"
    }
   ],
   "source": [
    "my_hopkins(data_copy)"
   ]
  },
  {
   "cell_type": "markdown",
   "metadata": {},
   "source": [
    "## Question-4: According to Hopkins Statistic is there cluster tendency in the data?"
   ]
  },
  {
   "cell_type": "markdown",
   "metadata": {},
   "source": [
    "Hopkins Statistic test, using 0.5 as the threshold to reject the alternative hypothesis. That is, if H < 0.5, then it is unlikely that D has statistically significant clusters.\n",
    "\n",
    "in other words, If the value of Hopkins statistic is close to 1, then we can reject the null hypothesis and conclude that the dataset is significantly a clusterable data.\n",
    "\n",
    "### hopkins test Result is 0.83 close to 1\n",
    "<b> Hence Reject the Null hyphothesis</b>\n",
    "Conclude <b> there is a Significant Cluster Tendency in the data</b>"
   ]
  },
  {
   "cell_type": "markdown",
   "metadata": {},
   "source": [
    "## Model building - KMeans"
   ]
  },
  {
   "cell_type": "code",
   "execution_count": 13,
   "metadata": {},
   "outputs": [],
   "source": [
    "from sklearn.cluster import KMeans"
   ]
  },
  {
   "cell_type": "markdown",
   "metadata": {},
   "source": [
    "### Choosing K by comparing Cost against each K¶"
   ]
  },
  {
   "cell_type": "code",
   "execution_count": 14,
   "metadata": {},
   "outputs": [
    {
     "data": {
      "image/png": "[encoded data removed]",
      "text/plain": [
       "<Figure size 432x288 with 1 Axes>"
      ]
     },
     "metadata": {
      "needs_background": "light"
     },
     "output_type": "display_data"
    }
   ],
   "source": [
    "import pylab as pl\n",
    "number_of_clusters = range(1,5)\n",
    "kmeans = [KMeans(n_clusters=i,max_iter=1000,random_state=42) for i in number_of_clusters]\n",
    "score = [-1*kmeans[i].fit(data_copy).score(data_copy) for i in range(len(kmeans))]\n",
    "pl.plot((number_of_clusters),score)\n",
    "pl.xlabel('Number of Clusters')\n",
    "pl.ylabel('Score')\n",
    "pl.title('Elbow Curve')\n",
    "pl.show()"
   ]
  },
  {
   "cell_type": "markdown",
   "metadata": {},
   "source": [
    "## According to the Elbow Curve the optimum No of Clusters is 2. But, your management plans 3 different types of food items to give to the employees. Hence we will be running K-Means with number of clusters as 3\n",
    "\n",
    "## Question-5: Write the code for creating the KMeans clusters with number of clusters = 3.\n",
    "\n",
    "### Hint: Use the function KMeans(n_clusters= no. of clusters ,max_iter=1000,random_state=42)"
   ]
  },
  {
   "cell_type": "code",
   "execution_count": 22,
   "metadata": {},
   "outputs": [],
   "source": [
    "km = KMeans(n_clusters=3,max_iter=1000,random_state=42).fit(data_copy)\n",
    "labels = pd.DataFrame(km.labels_)\n",
    "fitClusters = km.fit_predict(data_copy)"
   ]
  },
  {
   "cell_type": "code",
   "execution_count": 24,
   "metadata": {},
   "outputs": [],
   "source": [
    "#Kmeans with no of cluster 3 "
   ]
  },
  {
   "cell_type": "markdown",
   "metadata": {},
   "source": [
    "### Combining the predicted clusters with the original DF.¶"
   ]
  },
  {
   "cell_type": "code",
   "execution_count": 23,
   "metadata": {},
   "outputs": [
    {
     "data": {
      "text/html": [
       "<div>\n",
       "<style scoped>\n",
       "    .dataframe tbody tr th:only-of-type {\n",
       "        vertical-align: middle;\n",
       "    }\n",
       "\n",
       "    .dataframe tbody tr th {\n",
       "        vertical-align: top;\n",
       "    }\n",
       "\n",
       "    .dataframe thead th {\n",
       "        text-align: right;\n",
       "    }\n",
       "</style>\n",
       "<table border=\"1\" class=\"dataframe\">\n",
       "  <thead>\n",
       "    <tr style=\"text-align: right;\">\n",
       "      <th></th>\n",
       "      <th>Pasta</th>\n",
       "      <th>Non-Veg Dish</th>\n",
       "      <th>Brownie</th>\n",
       "      <th>Lentils</th>\n",
       "      <th>Fries</th>\n",
       "      <th>Fruits</th>\n",
       "      <th>k_mean_pred</th>\n",
       "    </tr>\n",
       "    <tr>\n",
       "      <th>Emp Id</th>\n",
       "      <th></th>\n",
       "      <th></th>\n",
       "      <th></th>\n",
       "      <th></th>\n",
       "      <th></th>\n",
       "      <th></th>\n",
       "      <th></th>\n",
       "    </tr>\n",
       "  </thead>\n",
       "  <tbody>\n",
       "    <tr>\n",
       "      <th>Emp_1</th>\n",
       "      <td>0.0</td>\n",
       "      <td>0.176471</td>\n",
       "      <td>0.101504</td>\n",
       "      <td>0.064935</td>\n",
       "      <td>0.098361</td>\n",
       "      <td>0.216561</td>\n",
       "      <td>2</td>\n",
       "    </tr>\n",
       "    <tr>\n",
       "      <th>Emp_2</th>\n",
       "      <td>0.0</td>\n",
       "      <td>0.078431</td>\n",
       "      <td>0.090226</td>\n",
       "      <td>0.110390</td>\n",
       "      <td>0.103825</td>\n",
       "      <td>0.044586</td>\n",
       "      <td>2</td>\n",
       "    </tr>\n",
       "    <tr>\n",
       "      <th>Emp_3</th>\n",
       "      <td>0.0</td>\n",
       "      <td>0.000000</td>\n",
       "      <td>0.169173</td>\n",
       "      <td>0.181818</td>\n",
       "      <td>0.000000</td>\n",
       "      <td>0.089172</td>\n",
       "      <td>2</td>\n",
       "    </tr>\n",
       "    <tr>\n",
       "      <th>Emp_4</th>\n",
       "      <td>0.0</td>\n",
       "      <td>0.117647</td>\n",
       "      <td>0.093985</td>\n",
       "      <td>0.233766</td>\n",
       "      <td>0.142077</td>\n",
       "      <td>0.000000</td>\n",
       "      <td>2</td>\n",
       "    </tr>\n",
       "    <tr>\n",
       "      <th>Emp_5</th>\n",
       "      <td>0.0</td>\n",
       "      <td>0.313725</td>\n",
       "      <td>0.007519</td>\n",
       "      <td>0.000000</td>\n",
       "      <td>0.245902</td>\n",
       "      <td>0.159236</td>\n",
       "      <td>2</td>\n",
       "    </tr>\n",
       "  </tbody>\n",
       "</table>\n",
       "</div>"
      ],
      "text/plain": [
       "        Pasta  Non-Veg Dish   Brownie   Lentils     Fries    Fruits  \\\n",
       "Emp Id                                                                \n",
       "Emp_1     0.0      0.176471  0.101504  0.064935  0.098361  0.216561   \n",
       "Emp_2     0.0      0.078431  0.090226  0.110390  0.103825  0.044586   \n",
       "Emp_3     0.0      0.000000  0.169173  0.181818  0.000000  0.089172   \n",
       "Emp_4     0.0      0.117647  0.093985  0.233766  0.142077  0.000000   \n",
       "Emp_5     0.0      0.313725  0.007519  0.000000  0.245902  0.159236   \n",
       "\n",
       "        k_mean_pred  \n",
       "Emp Id               \n",
       "Emp_1             2  \n",
       "Emp_2             2  \n",
       "Emp_3             2  \n",
       "Emp_4             2  \n",
       "Emp_5             2  "
      ]
     },
     "execution_count": 23,
     "metadata": {},
     "output_type": "execute_result"
    }
   ],
   "source": [
    "copy_2 = data_copy.reset_index()\n",
    "clustersDf = pd.DataFrame(fitClusters)\n",
    "data['k_mean_pred'] = fitClusters\n",
    "clustersDf.columns = ['k_mean_pred']\n",
    "combinedDf = pd.concat([copy_2, clustersDf], axis = 1)\n",
    "combinedDf.set_index('Emp Id',inplace = True)\n",
    "combinedDf.head()"
   ]
  },
  {
   "cell_type": "markdown",
   "metadata": {},
   "source": [
    "## Analysing the segments based on the clusters created by K-means clustering Model"
   ]
  },
  {
   "cell_type": "code",
   "execution_count": 19,
   "metadata": {},
   "outputs": [
    {
     "data": {
      "image/png": "[encoded data removed]",
      "text/plain": [
       "<Figure size 1080x576 with 6 Axes>"
      ]
     },
     "metadata": {
      "needs_background": "light"
     },
     "output_type": "display_data"
    }
   ],
   "source": [
    "temp = ['K means clustering'] \n",
    "a = 0\n",
    "for x in  ['k_mean_pred']:\n",
    "    plt.figure(figsize = (15,8))\n",
    "    c = 1\n",
    "    for variables in  data.columns[:-1]:\n",
    "        plt.subplot(2,3,c)\n",
    "        sns.boxplot(x= x, y= variables , data= data)\n",
    "        c +=1\n",
    "\n",
    "        plt.subplots_adjust(wspace=0.50)\n",
    "    plt.suptitle('Different Segments of Employees - ' + temp[a])\n",
    "    a +=1"
   ]
  },
  {
   "cell_type": "markdown",
   "metadata": {},
   "source": [
    "## Now that the segments have been created, we need to profile each segment for reporting"
   ]
  },
  {
   "cell_type": "markdown",
   "metadata": {},
   "source": [
    "## Question-6: What are the major differences between Employee Segment 0 and Employee Segment 1?"
   ]
  },
  {
   "cell_type": "markdown",
   "metadata": {},
   "source": [
    "### Observations\n",
    "\n",
    "<b>Employee Segment 0 Interested on high on Pasta,Non-Veg, Fries & fruits</b>whereas Employee segment 1 prefers more on Lentils,& prefers Brownie 7 Pasta moderately\n",
    "\n",
    "Major Difference\n",
    "<b>Emploee Segment 0</b>: Shows interest in all type of food items\n",
    "also the Median is high when compared to Segement 1 for all food items\n",
    "\n",
    "<b>Employee segment 1</b>: They show preferences  moderately interested only  max on Brownie & Lentils"
   ]
  },
  {
   "cell_type": "markdown",
   "metadata": {},
   "source": [
    "## Question-7: Which of the employee segments does not show much interest in any kind of food item?"
   ]
  },
  {
   "cell_type": "markdown",
   "metadata": {},
   "source": [
    "### Employee Segment 2 does not show much interest to any kind of food items"
   ]
  },
  {
   "cell_type": "markdown",
   "metadata": {},
   "source": [
    "### on comparing all 3 employee segments in box plots for various food items,\n",
    "<b>On Median of Employee segment is low</b> for all the types of food items"
   ]
  },
  {
   "cell_type": "code",
   "execution_count": null,
   "metadata": {},
   "outputs": [],
   "source": []
  }
 ],
 "metadata": {
  "kernelspec": {
   "display_name": "Python 3",
   "language": "python",
   "name": "python3"
  },
  "language_info": {
   "codemirror_mode": {
    "name": "ipython",
    "version": 3
   },
   "file_extension": ".py",
   "mimetype": "text/x-python",
   "name": "python",
   "nbconvert_exporter": "python",
   "pygments_lexer": "ipython3",
   "version": "3.8.3"
  }
 },
 "nbformat": 4,
 "nbformat_minor": 4
}
